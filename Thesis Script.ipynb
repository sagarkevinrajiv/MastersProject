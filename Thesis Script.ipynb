{
 "cells": [
  {
   "cell_type": "markdown",
   "metadata": {},
   "source": [
    "# Thesis: An Analysis of Political Sentiment and the Role of Fake Accounts among Twitter Election Messages "
   ]
  },
  {
   "cell_type": "markdown",
   "metadata": {},
   "source": [
    "## Import Libraries"
   ]
  },
  {
   "cell_type": "code",
   "execution_count": null,
   "metadata": {},
   "outputs": [],
   "source": [
    "#Install packages if not present already\n",
    "#pip install twitterscraper\n",
    "#pip install botometer"
   ]
  },
  {
   "cell_type": "code",
   "execution_count": 1,
   "metadata": {},
   "outputs": [
    {
     "name": "stderr",
     "output_type": "stream",
     "text": [
      "INFO: {'User-Agent': 'Mozilla/5.0 (compatible, MSIE 11, Windows NT 6.3; Trident/7.0; rv:11.0) like Gecko', 'X-Requested-With': 'XMLHttpRequest'}\n",
      "Using TensorFlow backend.\n"
     ]
    }
   ],
   "source": [
    "from twitterscraper import query_tweets\n",
    "import datetime as dt\n",
    "import pandas as pd\n",
    "import numpy as np\n",
    "import nltk\n",
    "import math\n",
    "import matplotlib.pyplot as plt\n",
    "from sklearn.model_selection import train_test_split\n",
    "\n",
    "import re\n",
    "from string import punctuation\n",
    "\n",
    "import glob\n",
    "import os\n",
    "from pathlib import Path\n",
    "\n",
    "from keras.preprocessing.sequence import pad_sequences\n",
    "from keras.callbacks import EarlyStopping\n",
    "from keras.models import Sequential, Model\n",
    "from keras.layers.core import Activation, Dense\n",
    "from keras.layers import Dropout, GlobalMaxPooling1D, Conv1D\n",
    "from keras.layers.embeddings import Embedding\n",
    "from keras.preprocessing.text import Tokenizer"
   ]
  },
  {
   "cell_type": "markdown",
   "metadata": {},
   "source": [
    "## User Defined functions\n",
    "### All functions written for this script"
   ]
  },
  {
   "cell_type": "code",
   "execution_count": 2,
   "metadata": {},
   "outputs": [],
   "source": [
    "# function for retrive tweets using Twitterscraper\n",
    "# paramters passed: list of keywords, begin and end date, language\n",
    "def getTweets(keywords,startDate,endDate,lang):\n",
    "    #Create new dataframe for storing tweets\n",
    "    finalDF = pd.DataFrame()\n",
    "    #Loop through keywords to get tweets as each query term\n",
    "    for term in keywords:\n",
    "        tweets = query_tweets(term, begindate = startDate, enddate = endDate, lang=lang)\n",
    "        df = pd.DataFrame(t.__dict__ for t in tweets)\n",
    "        finalDF = electionTweets2019.append(df)\n",
    "    \n",
    "    return finalDF\n",
    "\n",
    "# function to preprocess the tweets\n",
    "# \n",
    "def pre_process(text):\n",
    "    sentence = re.sub(r'<[^>]+>', ' ', text)\n",
    "    sentence = re.sub('[^a-zA-Z]', ' ', sentence)\n",
    "    sentence = re.sub(r\"\\s+[a-zA-Z]\\s+\", ' ', sentence)\n",
    "    sentence = re.sub(r'\\s+', ' ', sentence)\n",
    "    sentence = re.sub(r'#\\S+|@\\S+', ' ', sentence)\n",
    "    sentence = sentence.lower()\n",
    "    return sentence\n",
    "\n",
    "# function to repeat words in full caps \n",
    "def repeatCapitalWords(text):\n",
    "    t = \" \".join(re.findall(r\"\\b[A-Z\\s]+\\b\", text))\n",
    "    return text + t\n",
    "\n",
    "# function to categorize tweets based on party keywords\n",
    "def categorize(text):\n",
    "    text = text.lower()\n",
    "    category = \"BJP\"\n",
    "    # declaring keywords for each party\n",
    "    BJP = [\"bjp4india\",\"bharatiya janata party\",\"bjp\",\"nda \",\"narendra\",\"narendramodi\",\"namo\",\"modi\"]\n",
    "    INC = [\"incindia\",\"cong \",\"congress\",\"inc \",\"upa \",\"rahul gandhi\",\"rahulgandhi\",\"raga\",\"gandhi\"]\n",
    "    \n",
    "    if any(x in text for x in BJP):\n",
    "        if any(x in text for x in INC):\n",
    "            category = \"Both\"\n",
    "    elif any(x in text for x in INC):\n",
    "        category = \"Congress\"\n",
    "    else:\n",
    "        category = \"None\"\n",
    "            \n",
    "    return category\n",
    "\n",
    "# fuction to use botomter to get bot score for each account\n",
    "def getBotScore(id):\n",
    "    try:\n",
    "        result = bom.check_account(id)['scores']['universal']\n",
    "    except:\n",
    "        result = np.nan\n",
    "    \n",
    "    return result\n",
    "\n",
    "# Function to assign account type based on bot score\n",
    "# Simple Bot: Greater than/equal to 0.8\n",
    "# Human-like Bots: Between 0.4 and 0.8\n",
    "# Human: Less than 0.4\n",
    "\n",
    "def checkBotStatus(score):\n",
    "    status = 'Human'\n",
    "    \n",
    "    if score >= 0.8:\n",
    "        status = 'Simple Bot'\n",
    "    elif 0.4 < score < 0.8:\n",
    "        status = 'Human-like Bot'\n",
    "    elif math.isnan(score):\n",
    "        status = 'Suspended'\n",
    "        \n",
    "    return status"
   ]
  },
  {
   "cell_type": "markdown",
   "metadata": {},
   "source": [
    "## Data"
   ]
  },
  {
   "cell_type": "markdown",
   "metadata": {},
   "source": [
    "### Set Keywords"
   ]
  },
  {
   "cell_type": "code",
   "execution_count": null,
   "metadata": {},
   "outputs": [],
   "source": [
    "# Here we set the keywords for the three different categories of hashtags: \n",
    "#Generic election, candiate specific and party specific\n",
    "\n",
    "# Generic Hashtgas used \n",
    "electionKeywords = ['#2019LokSabhaElections',  '#2019LokSabhapolls', '#2019OpinionPoll', \n",
    "                    '#BattleOf2019', '#ButtonDabaoDeshBanao', \n",
    "                    '#CountingDay',\n",
    "                    '#Election2019', '#ElectionCommission', '#ElectionCommissioner', '#ElectionDirtyCash', '#ElectionResults2019', '#ElectionWar2019', '#Elections2019', '#ElectionAlert','#ElectionDay', '#ElectionSuperT20', '#ElectionUpdate', '#ElectionsOnMyPlate', '#ExitPoll', '#ExitPoll2019', '#ExitPoll2019Results', '#ExitPollPhobia', '#ExitPolls',\n",
    "                    '#GeneralElections', '#GeneralElections2019', \n",
    "                    '#India2019', '#IndiaElects', '#IndiaVotes', '#IndiaElections', '#IndianElections2019', '#Indiavotes', '#LokSabha2019','#IndiaElections2019' , '#IndiaDecides2019'\n",
    "                    '#LokSabhaChunav2019','#LokSabhaElection2019', '#LokSabhaElectionResults', '#LokSabhaElections', '#LokSabhaElections2019', '#LokSabhaPolls2019', '#Loksabha2019', \n",
    "                    '#LoksabhaElections2019', '#LoksabhaElection2019', \n",
    "                    '#Mandate2019', '#Mission2019', '#MyIndiaMyVote', \n",
    "                    '#PollOfPolls', '#PollofPolls', \n",
    "                    '#ResultDay', '#Verdict2019',\n",
    "                    '#Vote4India', '#VoteBecauseYouCan', '#VoteForChange', '#VoteForIndia', '#VoteForNewIndia', '#VoteIndia', '#VoteforIndia', '#VoteWiselyIndia']\n",
    "\n",
    "# Candidate specific hashtagsused \n",
    "candidateKeywords = ['#AaplaRahulGandhi','#AmchoRahulGandhi','#ArunachalWelcomesRahulGandhi',\n",
    "                     '#BiharRejectsModi','#BiharWithModi',\n",
    "                     '#ChowkidarNarendraModi',\n",
    "                     '#EkBarFirModiSarkar',\n",
    "                     '#FIRagainstCorruptModi',\t\n",
    "                     '#GoBackAntiNationalModi','#GoBackRahul','#GoBackModi','#GoBackPappu','#GoBackSadistModi','#GoodByeModi','#GujaratSaysNaMoAgain',\n",
    "                     '#MODIfiedJobs','#MPWithNaMo','#MaharashtraMODIfied','#MissionModi2019',\n",
    "                     '#Modi','#Modi2019Wave','#ModiAgain2019','#ModiChantSpooksCong','#ModiCorruptionYaadRakhna',\n",
    "                     '#ModiInAmethi','#ModiInGujarat','#ModiOnceMore',\n",
    "                     '#ModiTransformsBharat','#ModiVsPakistan','#ModiVsPappu','#ModiVsWho','#ModiWhereIsOurMoney','#MyFirstVoteForModi',\n",
    "                     '#NammaRahulGandhi','#NaMoAgain','#NaMoAgainAngersCong',\n",
    "                     '#PhirEkBaarModiSarkar',\n",
    "                     '#RaGaFromKarnataka','#RahulDemocracyDialogue','#RahulFromTamilNadu','#RahulGandhi','#RahulGandhiLieChallenge',\n",
    "                     '#RahulGandhiWithFishermen','#RahulLovesTerrorist',\n",
    "                     '#RahulPoliticisesPulwama','#RahulTakingIndiaForward',\n",
    "                     '#TNNaMoWarriors','#TNWelcomesModi','#TeamModi','#TripuraWelcomesRahulGandhi',\n",
    "                     '#VanakkamRahulGandhi','#VaravayiRahulGandhiYugam',\n",
    "                     '#WelcomeRahulGandhi','#WhyModiAgain']\n",
    "\n",
    "# Party specific hashtags used \n",
    "partyKeywords = ['#AntiNationalCongress', '#BJP2019Manifesto', '#BJP4BIHAR', '#BJPBetrayedDelhi', '#BJPCandidateList', '#BJPFirstList', '#BJPGameOfThieves', '#BJPInsultsMartyr', \n",
    "                 '#BJPJootaFight', '#BJPJumlaManifesto', '#BJPKiList2019', '#BJPLoanJumla', '#BJPLovesTerrorists', '#BJPMLA', '#BJPMP', '#BJPManifesto', '#BJPPollManifesto', '#BJPFoundationDay', \n",
    "                 '#BJPSankalpPatr2019', '#BJPSankalpPatra', '#BJPSthapnaDiwas', '#BJPTerrorism', '#BJPVIjaySankalpBikeRally', '#BJPVijaySankalp', '#BJPVijaySankalpBikeRally', '#BJPWebsiteHacked', \n",
    "                 '#BJPWinning', '#BJPwithKasab', '#BJPlist', '#BJPvsBJP', '#BiharNDA', '#BjpKiList2019', '#BjpWebsitehacked', '#BjpWithKasab', '#CONgressEkBailKatha', '#Cong15LakhStunt', '#CongAbsolvesPak', \n",
    "                 '#CongAdmitsJhoot', '#CongAgainstSedition', '#CongAntiForcesCampaign', '#CongArmsDealerWeb', '#CongBasicIncomeVow', '#CongBharatMataClaim', '#CongCashRaids', '#CongCasteCard', \n",
    "                 '#CongFakeCampaign', '#CongForPakistan', '#CongHawalaCashNote', '#CongInsultsMartyrs', '#CongKaCashForVote', '#CongManifesto', '#CongMasoodJhoot', '#CongMuslimVote', '#CongPollPledge', \n",
    "                 '#CongRamBhaktLie', '#CongSuperEmergency', '#CongTerrorSamjhauta', '#CongViolenceAlliance', '#CongVsForces', '#CongVsNationalInterest', '#CongizOnBackfoot', '#Congress', \n",
    "                 '#CongressAgainstDalits', '#CongressChorHai', '#CongressCollapse', '#CongressFakesItOnFB', '#CongressHaiNa', '#CongressHatesMiddleClass', '#CongressHelpingBJP', '#CongressInVidarbha', \n",
    "                 '#CongressInsultsIndia', '#CongressKaKalank', '#CongressKiFakeDiaries', '#CongressKiTerrorPolitics', '#CongressMainfesto', '#CongressManifesto', '#CongressMission25', '#CongressMuktBharat', \n",
    "                 '#CongressNaalPunjabKhushhaal', '#CongressWithPakistan', '#CongressWillDeliver', '#CongressWorkingCommittee', '#DelhiMaangeCongress', '#EtharaCongress', '#FakeItLikeCongress', \n",
    "                 '#FirstPhaseBJPFails', '#GoBackFascistBJP', '#INCForWomen', '#MahilaVirodhiBJP',  '#MasoodJiKeSaathCong', '#MyVoteForCongress', '#SayNoToBJP', '#ShameOnCongress',  '#SilentWomenOfBJP', \n",
    "                 '#TelanganaProgressWithCongress', '#UPAPoliticalSting', '#VampireCongress', '#Vote4BJP', '#Vote4Bjp', '#VoteForBJP',  '#VultureCongress', '#WomenBewareofBJP', '#BJP4India', '#BJPForIndia', \n",
    "                 '#BJPScaredOfKejriwal', '#BJPSupportsTerrorists', '#BJPWinningAmethi', '#BJPgoonBidhuri', '#BJPseDemocracyBachao', '#BengalWithBJP', '#Cong1984Shocker', '#Cong287CrCashFile', \n",
    "                 '#Cong6StrikeFactCheck', '#CongAbusesRashtrapati', '#CongAttacksSavarkar', '#CongBachaoRahulHatao', '#CongForImran', '#CongInsultsAamAadmi', '#CongInsultsPoor', '#CongKaSelfGoalHua', \n",
    "                 '#CongMediaBoycott', '#CongNeechAttackPart2', '#CongPraisesJinnah', '#CongSaffronSOS', '#CongShatruKeSaath', '#CongVsVadras', '#Conginsultspoor', '#CongressNeverAgain', '#CongressParty', \n",
    "                 '#DilliKeDilMeinCongress', '#HogiCongressKiJeet', '#IYCwithRahul', '#IndiaWithCongress', '#MeraVoteCongressKo', '#MeriAwazMeriCongress', '#NDAParliamentaryMeeting', '#TNRejectsBJP', \n",
    "                 '#VoteCutterCong', '#VoteKatwaCongress', '#congAttacksSavarkar']\n"
   ]
  },
  {
   "cell_type": "markdown",
   "metadata": {},
   "source": [
    "### Run for each set of keywords and get tweets\n",
    "### Save the tweets in a file for each keyword category"
   ]
  },
  {
   "cell_type": "code",
   "execution_count": null,
   "metadata": {},
   "outputs": [],
   "source": [
    "# Declare start and end dates\n",
    "start_date = dt.date(2019, 1, 1) # first day of the year\n",
    "end_date = dt.date(2019, 5, 23) # day of election results\n",
    "\n",
    "#Create dataframe for generic election keywords\n",
    "electionTweets2019 = getTweets(keywords = electionKeywords,\n",
    "                               startDate = start_date,\n",
    "                               endDate = end_date,\n",
    "                               lang = 'en')\n",
    "electionTweets2019.to_csv(\"electionTweets2019.csv\")\n",
    "\n",
    "#Create dataframe for generic election keywords\n",
    "candidateTweets2019 = getTweets(keywords = candidateKeywords,\n",
    "                               startDate = start_date,\n",
    "                               endDate = end_date,\n",
    "                               lang = 'en')\n",
    "candidateTweets2019.to_csv(\"candidateTweets2019.csv\")\n",
    "\n",
    "#Create dataframe for generic election keywords\n",
    "partyTweets2019 = getTweets(keywords = partyKeywords,\n",
    "                               startDate = start_date,\n",
    "                               endDate = end_date,\n",
    "                               lang = 'en')\n",
    "partyTweets2019.to_csv(\"partyTweets2019.csv\")"
   ]
  },
  {
   "cell_type": "markdown",
   "metadata": {},
   "source": [
    "### Load files and merge to get final dataset"
   ]
  },
  {
   "cell_type": "code",
   "execution_count": 3,
   "metadata": {},
   "outputs": [
    {
     "data": {
      "text/plain": [
       "(161324, 22)"
      ]
     },
     "execution_count": 3,
     "metadata": {},
     "output_type": "execute_result"
    }
   ],
   "source": [
    "# Read three files with all the tweets\n",
    "\n",
    "electionTweets2019 = pd.read_csv(\"./Data/electionTweets2019.csv\")\n",
    "candidateTweets2019 = pd.read_csv(\"./Data/candidateTweets2019.csv\")\n",
    "partyTweets2019 = pd.read_csv(\"./Data/partyTweets2019.csv\")\n",
    "\n",
    "# merge the three dataframes\n",
    "tweets2019 =  pd.concat([electionTweets2019, candidateTweets2019, partyTweets2019], ignore_index=True)\n",
    "#size of dataset\n",
    "tweets2019.shape"
   ]
  },
  {
   "cell_type": "markdown",
   "metadata": {},
   "source": [
    "### Pre-processing of tweets"
   ]
  },
  {
   "cell_type": "code",
   "execution_count": 4,
   "metadata": {},
   "outputs": [
    {
     "data": {
      "text/plain": [
       "(85193, 7)"
      ]
     },
     "execution_count": 4,
     "metadata": {},
     "output_type": "execute_result"
    }
   ],
   "source": [
    "# get actual tweets and not replies \n",
    "tweets2019 = tweets2019[tweets2019['is_reply_to' ] == False]\n",
    "\n",
    "# dropping duplicate values \n",
    "tweets2019 = tweets2019.drop_duplicates(subset = 'tweet_id')\n",
    "\n",
    "# drop tweets from media agencies, news channels, newspapers\n",
    "tweets2019 = tweets2019[tweets2019['username']\n",
    "                        .str.contains(\"news|tv|times|media|toi|council|statesman|mandate|press|now|firstpost|Live|deccan|express|outlook|the \", case= False) == False]\n",
    "\n",
    "# extract selected columns \n",
    "tweets2019 = tweets2019.filter(['tweet_id','timestamp','text', 'user_id','username', 'screen_name'], axis=1).sort_values(by=['tweet_id']).reset_index()\n",
    "\n",
    "#rename columns\n",
    "tweets2019.rename(columns={'tweet_id':'TweetID',\n",
    "                           'timestamp':'TimeStamp',\n",
    "                           'text' : 'Tweet', \n",
    "                           'user_id' : 'UserID',\n",
    "                           'username' : 'UserName', \n",
    "                           'screen_name' : 'ScreenName'},\n",
    "                  inplace=True)\n",
    "\n",
    "# drop index column\n",
    "tweets2019 = tweets2019.drop(['index'],axis = 1)\n",
    "\n",
    "# add new column categorise tweets by parties\n",
    "tweets2019['Party'] = tweets2019['Tweet'].apply(categorize)\n",
    "\n",
    "# drop all entries with no party category\n",
    "tweets2019 = tweets2019[tweets2019['Party']!='None']\n",
    "\n",
    "# add capitalized words again to text\n",
    "tweets2019['Tweet'] = tweets2019['Tweet'].apply(repeatCapitalWords)\n",
    "\n",
    "# Remove all hyperlinks, whitespaces and twitterhandles\n",
    "tweets2019 = tweets2019.assign(Tweet = lambda x: x[\"Tweet\"].str.replace(r\"http\\S+|#\\S+|@\\S+\", \"\", regex=True)) \n",
    "tweets2019 = tweets2019.assign(Tweet = lambda x: x[\"Tweet\"].str.replace(r\"pic.twitter\\S+\", \"\", regex=True)) \n",
    "\n",
    "# apply pre-process steps\n",
    "tweets2019['Tweet'] = tweets2019['Tweet'].apply(pre_process)\n",
    "\n",
    "# Save dataset to file\n",
    "tweets2019.to_csv(\"./Data/Tweets2019.csv\")\n",
    "\n",
    "# size of dataset after pre-processing\n",
    "tweets2019.shape"
   ]
  },
  {
   "cell_type": "markdown",
   "metadata": {},
   "source": [
    "### Load final dataset from file"
   ]
  },
  {
   "cell_type": "code",
   "execution_count": 5,
   "metadata": {},
   "outputs": [
    {
     "data": {
      "text/html": [
       "<div>\n",
       "<style scoped>\n",
       "    .dataframe tbody tr th:only-of-type {\n",
       "        vertical-align: middle;\n",
       "    }\n",
       "\n",
       "    .dataframe tbody tr th {\n",
       "        vertical-align: top;\n",
       "    }\n",
       "\n",
       "    .dataframe thead th {\n",
       "        text-align: right;\n",
       "    }\n",
       "</style>\n",
       "<table border=\"1\" class=\"dataframe\">\n",
       "  <thead>\n",
       "    <tr style=\"text-align: right;\">\n",
       "      <th></th>\n",
       "      <th>Party</th>\n",
       "      <th>Count</th>\n",
       "    </tr>\n",
       "  </thead>\n",
       "  <tbody>\n",
       "    <tr>\n",
       "      <th>0</th>\n",
       "      <td>BJP</td>\n",
       "      <td>32731</td>\n",
       "    </tr>\n",
       "    <tr>\n",
       "      <th>1</th>\n",
       "      <td>Both</td>\n",
       "      <td>20832</td>\n",
       "    </tr>\n",
       "    <tr>\n",
       "      <th>2</th>\n",
       "      <td>Congress</td>\n",
       "      <td>31630</td>\n",
       "    </tr>\n",
       "  </tbody>\n",
       "</table>\n",
       "</div>"
      ],
      "text/plain": [
       "      Party  Count\n",
       "0       BJP  32731\n",
       "1      Both  20832\n",
       "2  Congress  31630"
      ]
     },
     "execution_count": 5,
     "metadata": {},
     "output_type": "execute_result"
    }
   ],
   "source": [
    "#tweets2019 = pd.read_csv(\"./Data/Tweets2019.csv\")\n",
    "\n",
    "# tweet count for each party category\n",
    "tweets2019.groupby(['Party']).size().reset_index(name='Count')"
   ]
  },
  {
   "cell_type": "markdown",
   "metadata": {},
   "source": [
    "## Part 1: Checking for Bot"
   ]
  },
  {
   "cell_type": "code",
   "execution_count": null,
   "metadata": {},
   "outputs": [],
   "source": [
    "# load package\n",
    "import botometer\n",
    "\n",
    "# set rapid api key\n",
    "rapidapi_key = \"761c3f590emsha5c171f2911c27bp1f4826jsnbbac887cd7d5\" # now it's called rapidapi key\n",
    "\n",
    "# set twitter developer credentials\n",
    "twitter_app_auth = {\n",
    "    'consumer_key': 'bfSuAdueneFZpRvA9Pwrx3VtG',\n",
    "    'consumer_secret': '8sL2mXYkPyz8YjqP0WO7bHPaHsjMc7EuPQT41ekRjbSxhdVwze',\n",
    "    'access_token': '855084907365715968-a9rslInMObUk0R91CWVStf7SPiIRble',\n",
    "    'access_token_secret': 'HpPuzBC516Hri88qHtc2NU973iVDO4nofqtuooPTtZtnT',\n",
    "  }\n",
    "\n",
    "# create instance of botometer class to get bot score\n",
    "bom = botometer.Botometer(wait_on_ratelimit=True,\n",
    "                          rapidapi_key=rapidapi_key,\n",
    "                          **twitter_app_auth)"
   ]
  },
  {
   "cell_type": "markdown",
   "metadata": {},
   "source": [
    "### Get all unique user ids from Twitter Election dataset"
   ]
  },
  {
   "cell_type": "code",
   "execution_count": 6,
   "metadata": {},
   "outputs": [
    {
     "data": {
      "text/html": [
       "<div>\n",
       "<style scoped>\n",
       "    .dataframe tbody tr th:only-of-type {\n",
       "        vertical-align: middle;\n",
       "    }\n",
       "\n",
       "    .dataframe tbody tr th {\n",
       "        vertical-align: top;\n",
       "    }\n",
       "\n",
       "    .dataframe thead th {\n",
       "        text-align: right;\n",
       "    }\n",
       "</style>\n",
       "<table border=\"1\" class=\"dataframe\">\n",
       "  <thead>\n",
       "    <tr style=\"text-align: right;\">\n",
       "      <th></th>\n",
       "      <th>Party</th>\n",
       "      <th>Count</th>\n",
       "    </tr>\n",
       "  </thead>\n",
       "  <tbody>\n",
       "    <tr>\n",
       "      <th>0</th>\n",
       "      <td>BJP</td>\n",
       "      <td>14846</td>\n",
       "    </tr>\n",
       "    <tr>\n",
       "      <th>2</th>\n",
       "      <td>Congress</td>\n",
       "      <td>12509</td>\n",
       "    </tr>\n",
       "    <tr>\n",
       "      <th>1</th>\n",
       "      <td>Both</td>\n",
       "      <td>7756</td>\n",
       "    </tr>\n",
       "  </tbody>\n",
       "</table>\n",
       "</div>"
      ],
      "text/plain": [
       "      Party  Count\n",
       "0       BJP  14846\n",
       "2  Congress  12509\n",
       "1      Both   7756"
      ]
     },
     "execution_count": 6,
     "metadata": {},
     "output_type": "execute_result"
    }
   ],
   "source": [
    "userIdDF = tweets2019[['UserID', 'ScreenName','Party']].drop_duplicates(subset = 'UserID')\n",
    "userIdDF.groupby(['Party']).size().reset_index(name='Count').sort_values(by='Count',ascending=False)"
   ]
  },
  {
   "cell_type": "markdown",
   "metadata": {},
   "source": [
    "### Get bot score for each unique user, based on the party category\n",
    "### Save the details in a file"
   ]
  },
  {
   "cell_type": "code",
   "execution_count": null,
   "metadata": {},
   "outputs": [],
   "source": [
    "# Get Unique ids for BJP and get Bot score for each\n",
    "userId_BJP = userIdDF[userIdDF['Party']=='BJP']\n",
    "userId_BJP['BotScore'] = userId_BJP['UserID'].apply(getBotScore)\n",
    "userId_BJP.to_csv(\"./Data/userId_BJP.csv\")\n",
    "\n",
    "# Get Unique ids for Congress and get Bot score for each\n",
    "userId_Congress = userIdDF[userIdDF['Party']=='Congress']\n",
    "userId_Congress['BotScore'] = userId_Congress['UserID'].apply(getBotScore)\n",
    "userId_Congress.to_csv(\"./Data/userId_Congress.csv\")\n",
    "\n",
    "# Get Unique ids that tweeted for both BJP and Cpngress and get Bot score for each\n",
    "userId_Both = userIdDF[userIdDF['Party']=='Both']\n",
    "userId_Both['BotScore'] = userId_Both['UserID'].apply(getBotScore)\n",
    "userId_Both.to_csv(\"./Data/userId_Both.csv\")"
   ]
  },
  {
   "cell_type": "markdown",
   "metadata": {},
   "source": [
    "### Once all the scores were retreived, we merge the datasets together to get a combined dataset for all the unique user ids"
   ]
  },
  {
   "cell_type": "code",
   "execution_count": 7,
   "metadata": {},
   "outputs": [],
   "source": [
    "# Since we already have data saved in the files, we load the files rather running the script each time \n",
    "userId_BJP = pd.read_csv(\"./Data/userId_BJP.csv\")\n",
    "userId_Congress = pd.read_csv(\"./Data/userId_Congress.csv\")\n",
    "userId_Both = pd.read_csv(\"./Data/userId_Both.csv\")\n",
    "\n",
    "# Merge all three datasets\n",
    "userIDScoreCombined =  pd.concat([userId_BJP, userId_Congress, userId_Both], ignore_index=True)"
   ]
  },
  {
   "cell_type": "code",
   "execution_count": 8,
   "metadata": {},
   "outputs": [
    {
     "data": {
      "text/plain": [
       "(35111, 5)"
      ]
     },
     "execution_count": 8,
     "metadata": {},
     "output_type": "execute_result"
    }
   ],
   "source": [
    "# Code to make sure we only extract all the unique user ids present in Twitter Election dataset\n",
    "userIDScoreCombined = pd.merge(userIdDF,userIDScoreCombined,on=['UserID', 'ScreenName', 'Party'],how='left')\n",
    "userIDScoreCombined = userIDScoreCombined = userIDScoreCombined[['UserID','ScreenName','Party','BotScore']]\n",
    "\n",
    "# Assign account type based on the Bot score for each user\n",
    "userIDScoreCombined['Status'] = userIDScoreCombined['BotScore'].apply(checkBotStatus)\n",
    "\n",
    "# Size of dataset: no of unique users\n",
    "userIDScoreCombined.shape"
   ]
  },
  {
   "cell_type": "code",
   "execution_count": 9,
   "metadata": {},
   "outputs": [
    {
     "data": {
      "text/html": [
       "<div>\n",
       "<style scoped>\n",
       "    .dataframe tbody tr th:only-of-type {\n",
       "        vertical-align: middle;\n",
       "    }\n",
       "\n",
       "    .dataframe tbody tr th {\n",
       "        vertical-align: top;\n",
       "    }\n",
       "\n",
       "    .dataframe thead th {\n",
       "        text-align: right;\n",
       "    }\n",
       "</style>\n",
       "<table border=\"1\" class=\"dataframe\">\n",
       "  <thead>\n",
       "    <tr style=\"text-align: right;\">\n",
       "      <th></th>\n",
       "      <th>Status</th>\n",
       "      <th>Count</th>\n",
       "    </tr>\n",
       "  </thead>\n",
       "  <tbody>\n",
       "    <tr>\n",
       "      <th>0</th>\n",
       "      <td>Human</td>\n",
       "      <td>28973</td>\n",
       "    </tr>\n",
       "    <tr>\n",
       "      <th>1</th>\n",
       "      <td>Human-like Bot</td>\n",
       "      <td>4334</td>\n",
       "    </tr>\n",
       "    <tr>\n",
       "      <th>2</th>\n",
       "      <td>Simple Bot</td>\n",
       "      <td>1141</td>\n",
       "    </tr>\n",
       "    <tr>\n",
       "      <th>3</th>\n",
       "      <td>Suspended</td>\n",
       "      <td>663</td>\n",
       "    </tr>\n",
       "  </tbody>\n",
       "</table>\n",
       "</div>"
      ],
      "text/plain": [
       "           Status  Count\n",
       "0           Human  28973\n",
       "1  Human-like Bot   4334\n",
       "2      Simple Bot   1141\n",
       "3       Suspended    663"
      ]
     },
     "execution_count": 9,
     "metadata": {},
     "output_type": "execute_result"
    }
   ],
   "source": [
    "# See count for each account type\n",
    "userIDCount = userIDScoreCombined.groupby(['Status']).size().reset_index(name='Count')\n",
    "userIDCount"
   ]
  },
  {
   "cell_type": "code",
   "execution_count": 10,
   "metadata": {},
   "outputs": [
    {
     "data": {
      "image/png": "[encoded data removed]",
      "text/plain": [
       "<Figure size 432x288 with 1 Axes>"
      ]
     },
     "metadata": {},
     "output_type": "display_data"
    }
   ],
   "source": [
    "# Create a pie chart\n",
    "plt.pie(\n",
    "    # using tweets\n",
    "    userIDCount['Count'],\n",
    "    # with no shadows\n",
    "    shadow=False,\n",
    "    # with the start angle at 30%\n",
    "    startangle=30,\n",
    "    # with the percent listed as a fraction\n",
    "    autopct='%1.0f%%'\n",
    "    )\n",
    "\n",
    "# View the plot drop above\n",
    "plt.axis('equal')\n",
    "plt.legend(userIDCount['Status'], loc=\"best\")\n",
    "# View the plot\n",
    "plt.tight_layout()\n",
    "plt.savefig('./Plots/pie.png')\n",
    "plt.show()"
   ]
  },
  {
   "cell_type": "code",
   "execution_count": 11,
   "metadata": {},
   "outputs": [
    {
     "data": {
      "text/html": [
       "<div>\n",
       "<style scoped>\n",
       "    .dataframe tbody tr th:only-of-type {\n",
       "        vertical-align: middle;\n",
       "    }\n",
       "\n",
       "    .dataframe tbody tr th {\n",
       "        vertical-align: top;\n",
       "    }\n",
       "\n",
       "    .dataframe thead th {\n",
       "        text-align: right;\n",
       "    }\n",
       "</style>\n",
       "<table border=\"1\" class=\"dataframe\">\n",
       "  <thead>\n",
       "    <tr style=\"text-align: right;\">\n",
       "      <th>Status</th>\n",
       "      <th>Human</th>\n",
       "      <th>Human-like Bot</th>\n",
       "      <th>Simple Bot</th>\n",
       "      <th>Suspended</th>\n",
       "      <th>Total</th>\n",
       "    </tr>\n",
       "    <tr>\n",
       "      <th>Party</th>\n",
       "      <th></th>\n",
       "      <th></th>\n",
       "      <th></th>\n",
       "      <th></th>\n",
       "      <th></th>\n",
       "    </tr>\n",
       "  </thead>\n",
       "  <tbody>\n",
       "    <tr>\n",
       "      <th>BJP</th>\n",
       "      <td>12245</td>\n",
       "      <td>1915</td>\n",
       "      <td>589</td>\n",
       "      <td>97</td>\n",
       "      <td>14846</td>\n",
       "    </tr>\n",
       "    <tr>\n",
       "      <th>Congress</th>\n",
       "      <td>10180</td>\n",
       "      <td>1531</td>\n",
       "      <td>301</td>\n",
       "      <td>497</td>\n",
       "      <td>12509</td>\n",
       "    </tr>\n",
       "    <tr>\n",
       "      <th>Both</th>\n",
       "      <td>6548</td>\n",
       "      <td>888</td>\n",
       "      <td>251</td>\n",
       "      <td>69</td>\n",
       "      <td>7756</td>\n",
       "    </tr>\n",
       "  </tbody>\n",
       "</table>\n",
       "</div>"
      ],
      "text/plain": [
       "Status    Human  Human-like Bot  Simple Bot  Suspended  Total\n",
       "Party                                                        \n",
       "BJP       12245            1915         589         97  14846\n",
       "Congress  10180            1531         301        497  12509\n",
       "Both       6548             888         251         69   7756"
      ]
     },
     "execution_count": 11,
     "metadata": {},
     "output_type": "execute_result"
    }
   ],
   "source": [
    "# check distribution of each account type for all party categories\n",
    "botCountDF = userIDScoreCombined.groupby(['Status','Party']).size().reset_index(name='Count').pivot(index='Party',columns='Status',values='Count')\n",
    "botCountDF['Total'] = botCountDF.sum(axis=1)\n",
    "botCountDF = botCountDF.sort_values(by='Total',ascending=False)\n",
    "botCountDF"
   ]
  },
  {
   "cell_type": "code",
   "execution_count": 12,
   "metadata": {},
   "outputs": [
    {
     "data": {
      "image/png": "[encoded data removed]",
      "text/plain": [
       "<Figure size 720x504 with 1 Axes>"
      ]
     },
     "metadata": {
      "needs_background": "light"
     },
     "output_type": "display_data"
    }
   ],
   "source": [
    "# Plot for distribution of each account type for all party categories\n",
    "df_total = botCountDF['Total']\n",
    "df = botCountDF.iloc[:, 0:4]\n",
    "df.plot(kind='barh',stacked = True,title = 'User% for each account type', mark_right = False,  figsize=(10,7))\n",
    "\n",
    "df_rel = df[df.columns[:]].div(df_total, 0)*100\n",
    "\n",
    "for n in df_rel:\n",
    "    for i, (cs, ab, pc, tot) in enumerate(zip(df.iloc[:, 0:].cumsum(1)[n], df[n], df_rel[n], df_total)):\n",
    "        #plt.text(tot, i, str(tot), va='center')\n",
    "        plt.text(cs - ab/2, i, str(int(np.round(pc, 0))) , va='center', ha='center')\n",
    "\n",
    "plt.savefig('./Plots/botCount.png')"
   ]
  },
  {
   "cell_type": "markdown",
   "metadata": {},
   "source": [
    "### Assign account type based on user id for each user in Twitter Election dataset"
   ]
  },
  {
   "cell_type": "code",
   "execution_count": 13,
   "metadata": {},
   "outputs": [],
   "source": [
    "tweets2019 = pd.merge(tweets2019,userIDScoreCombined[['UserID','Status']], on='UserID',how='left')"
   ]
  },
  {
   "cell_type": "code",
   "execution_count": 14,
   "metadata": {},
   "outputs": [
    {
     "data": {
      "text/html": [
       "<div>\n",
       "<style scoped>\n",
       "    .dataframe tbody tr th:only-of-type {\n",
       "        vertical-align: middle;\n",
       "    }\n",
       "\n",
       "    .dataframe tbody tr th {\n",
       "        vertical-align: top;\n",
       "    }\n",
       "\n",
       "    .dataframe thead th {\n",
       "        text-align: right;\n",
       "    }\n",
       "</style>\n",
       "<table border=\"1\" class=\"dataframe\">\n",
       "  <thead>\n",
       "    <tr style=\"text-align: right;\">\n",
       "      <th>Status</th>\n",
       "      <th>Human</th>\n",
       "      <th>Human-like Bot</th>\n",
       "      <th>Simple Bot</th>\n",
       "      <th>Suspended</th>\n",
       "      <th>Total</th>\n",
       "    </tr>\n",
       "    <tr>\n",
       "      <th>Party</th>\n",
       "      <th></th>\n",
       "      <th></th>\n",
       "      <th></th>\n",
       "      <th></th>\n",
       "      <th></th>\n",
       "    </tr>\n",
       "  </thead>\n",
       "  <tbody>\n",
       "    <tr>\n",
       "      <th>BJP</th>\n",
       "      <td>27801</td>\n",
       "      <td>3675</td>\n",
       "      <td>867</td>\n",
       "      <td>388</td>\n",
       "      <td>32731</td>\n",
       "    </tr>\n",
       "    <tr>\n",
       "      <th>Congress</th>\n",
       "      <td>26566</td>\n",
       "      <td>3563</td>\n",
       "      <td>515</td>\n",
       "      <td>986</td>\n",
       "      <td>31630</td>\n",
       "    </tr>\n",
       "    <tr>\n",
       "      <th>Both</th>\n",
       "      <td>17466</td>\n",
       "      <td>2270</td>\n",
       "      <td>757</td>\n",
       "      <td>339</td>\n",
       "      <td>20832</td>\n",
       "    </tr>\n",
       "  </tbody>\n",
       "</table>\n",
       "</div>"
      ],
      "text/plain": [
       "Status    Human  Human-like Bot  Simple Bot  Suspended  Total\n",
       "Party                                                        \n",
       "BJP       27801            3675         867        388  32731\n",
       "Congress  26566            3563         515        986  31630\n",
       "Both      17466            2270         757        339  20832"
      ]
     },
     "execution_count": 14,
     "metadata": {},
     "output_type": "execute_result"
    }
   ],
   "source": [
    "# check distribution of tweets for all party categories based on account type\n",
    "tweetBotCountDF = tweets2019.groupby(['Status','Party']).size().reset_index(name='Count').pivot(index='Party',columns='Status',values='Count')\n",
    "tweetBotCountDF['Total'] = tweetBotCountDF.sum(axis=1)\n",
    "tweetBotCountDF = tweetBotCountDF.sort_values(by='Total',ascending=False)\n",
    "tweetBotCountDF"
   ]
  },
  {
   "cell_type": "code",
   "execution_count": 15,
   "metadata": {},
   "outputs": [
    {
     "data": {
      "image/png": "[encoded data removed]",
      "text/plain": [
       "<Figure size 1080x504 with 1 Axes>"
      ]
     },
     "metadata": {
      "needs_background": "light"
     },
     "output_type": "display_data"
    }
   ],
   "source": [
    "# plot distribution of tweets for all party categories based on account type\n",
    "df_total = tweetBotCountDF['Total']\n",
    "df = tweetBotCountDF.iloc[:, 0:4]\n",
    "df.plot(kind='barh',stacked = True, title = 'Tweet% for each account type', mark_right = False,  figsize=(15,7))\n",
    "\n",
    "df_rel = df[df.columns[:]].div(df_total, 0)*100\n",
    "\n",
    "for n in df_rel:\n",
    "    for i, (cs, ab, pc, tot) in enumerate(zip(df.iloc[:, 0:].cumsum(1)[n], df[n], df_rel[n], df_total)):\n",
    "        plt.text(cs - ab/2, i, str(int(np.round(pc, 0))) , va='center', ha='center', size = 8)\n",
    "\n",
    "plt.savefig('./Plots/tweetBotCount.png')"
   ]
  },
  {
   "cell_type": "markdown",
   "metadata": {},
   "source": [
    "## Part 2: Sentiment Analysis"
   ]
  },
  {
   "cell_type": "markdown",
   "metadata": {},
   "source": [
    "## Training Data: Sentiment140"
   ]
  },
  {
   "cell_type": "code",
   "execution_count": 16,
   "metadata": {},
   "outputs": [
    {
     "data": {
      "text/plain": [
       "(200000, 6)"
      ]
     },
     "execution_count": 16,
     "metadata": {},
     "output_type": "execute_result"
    }
   ],
   "source": [
    "# Column names for relevant columns\n",
    "colNames = ['Sentiment', 'TweetID', 'Date', 'Query', 'Username','Text']\n",
    "# Load Sentiment140 dataset from file\n",
    "trainingDataSet = pd.read_csv(\"./Data/Sentiment140.csv\", names = colNames, encoding= 'ISO-8859-1',header=None)\n",
    "\n",
    "# Take sample of Sentiment140 dataset for training data\n",
    "trainingDataSet = trainingDataSet.sample(frac = 0.125, random_state = 100)\n",
    "\n",
    "#Change all positive sentiment values from 4 to 1\n",
    "trainingDataSet.loc[trainingDataSet['Sentiment'] == 4, 'Sentiment'] = 1\n",
    "\n",
    "#  check for capitalized words and add to text\n",
    "trainingDataSet['Text'] = trainingDataSet['Text'].apply(repeatCapitalWords)\n",
    "\n",
    "# Remove all hyperlinks, whitespaces and twitterhandles, if any\n",
    "trainingDataSet = trainingDataSet.assign(Text = lambda x: x[\"Text\"].str.replace(r\"http\\S+|#\\S+|@\\S+\", \"\", regex=True)) \n",
    "trainingDataSet = trainingDataSet.assign(Text = lambda x: x[\"Text\"].str.replace(r\"pic.twitter\\S+\", \"\", regex=True)) \n",
    "\n",
    "# size of dataset\n",
    "trainingDataSet.shape"
   ]
  },
  {
   "cell_type": "code",
   "execution_count": 17,
   "metadata": {},
   "outputs": [
    {
     "data": {
      "text/html": [
       "<div>\n",
       "<style scoped>\n",
       "    .dataframe tbody tr th:only-of-type {\n",
       "        vertical-align: middle;\n",
       "    }\n",
       "\n",
       "    .dataframe tbody tr th {\n",
       "        vertical-align: top;\n",
       "    }\n",
       "\n",
       "    .dataframe thead th {\n",
       "        text-align: right;\n",
       "    }\n",
       "</style>\n",
       "<table border=\"1\" class=\"dataframe\">\n",
       "  <thead>\n",
       "    <tr style=\"text-align: right;\">\n",
       "      <th></th>\n",
       "      <th>TweetID</th>\n",
       "      <th>Date</th>\n",
       "      <th>Query</th>\n",
       "      <th>Username</th>\n",
       "      <th>Text</th>\n",
       "    </tr>\n",
       "    <tr>\n",
       "      <th>Sentiment</th>\n",
       "      <th></th>\n",
       "      <th></th>\n",
       "      <th></th>\n",
       "      <th></th>\n",
       "      <th></th>\n",
       "    </tr>\n",
       "  </thead>\n",
       "  <tbody>\n",
       "    <tr>\n",
       "      <th>0</th>\n",
       "      <td>100202</td>\n",
       "      <td>100202</td>\n",
       "      <td>100202</td>\n",
       "      <td>100202</td>\n",
       "      <td>100202</td>\n",
       "    </tr>\n",
       "    <tr>\n",
       "      <th>1</th>\n",
       "      <td>99798</td>\n",
       "      <td>99798</td>\n",
       "      <td>99798</td>\n",
       "      <td>99798</td>\n",
       "      <td>99798</td>\n",
       "    </tr>\n",
       "  </tbody>\n",
       "</table>\n",
       "</div>"
      ],
      "text/plain": [
       "           TweetID    Date   Query  Username    Text\n",
       "Sentiment                                           \n",
       "0           100202  100202  100202    100202  100202\n",
       "1            99798   99798   99798     99798   99798"
      ]
     },
     "execution_count": 17,
     "metadata": {},
     "output_type": "execute_result"
    }
   ],
   "source": [
    "# check if equal distribution of positive and negative tweets\n",
    "trainingDataSet.groupby(['Sentiment']).count()"
   ]
  },
  {
   "cell_type": "markdown",
   "metadata": {},
   "source": [
    "## Glove Word Embedding"
   ]
  },
  {
   "cell_type": "code",
   "execution_count": 18,
   "metadata": {},
   "outputs": [],
   "source": [
    "# Read word embeddings\n",
    "#glove_file = open('./glove.6B.100d.txt', encoding=\"utf8\")\n",
    "glove_file = open('./Data/glove.twitter.27B.100d.txt', encoding=\"utf8\")\n",
    "dictionary = {}\n",
    "\n",
    "for line in glove_file:\n",
    "    values = line.split()\n",
    "    word = values[0]\n",
    "    try:\n",
    "        vector = np.asarray(values[1:], dtype='float32')\n",
    "    except:\n",
    "        print(values[1:])\n",
    "    \n",
    "    dictionary[word] = vector"
   ]
  },
  {
   "cell_type": "markdown",
   "metadata": {},
   "source": [
    "## Train-Test Split"
   ]
  },
  {
   "cell_type": "code",
   "execution_count": 19,
   "metadata": {},
   "outputs": [
    {
     "name": "stdout",
     "output_type": "stream",
     "text": [
      "           TweetID   Date  Query  Username   Text\n",
      "Sentiment                                        \n",
      "0            80277  80277  80277     80277  80277\n",
      "1            79723  79723  79723     79723  79723            TweetID   Date  Query  Username   Text\n",
      "Sentiment                                        \n",
      "0            19925  19925  19925     19925  19925\n",
      "1            20075  20075  20075     20075  20075\n"
     ]
    }
   ],
   "source": [
    "# split Sentiment140 dataset into training and test set for the model\n",
    "trainData, testData = train_test_split(trainingDataSet, test_size=0.2, random_state=100)\n",
    "print(trainData.groupby(['Sentiment']).count(), testData.groupby(['Sentiment']).count())"
   ]
  },
  {
   "cell_type": "markdown",
   "metadata": {},
   "source": [
    "## Pre-processing for model"
   ]
  },
  {
   "cell_type": "code",
   "execution_count": 20,
   "metadata": {},
   "outputs": [],
   "source": [
    "# Create X and Y numpy arrays; preprocessing required for keral model \n",
    "# X: Text of the tweet; Y: Sentiment of the tweet (0,1)\n",
    "\n",
    "# Create X and Y numpy arrays for training set\n",
    "train_text_array = trainData[\"Text\"].to_numpy()\n",
    "X_train = [pre_process(text) for text in train_text_array]\n",
    "y_train = trainData[\"Sentiment\"].to_numpy()\n",
    "\n",
    "# Create X and Y numpy arrays for test set\n",
    "test_text_array = testData[\"Text\"].to_numpy()\n",
    "X_test = [pre_process(text) for text in test_text_array]\n",
    "y_test = testData[\"Sentiment\"].to_numpy()\n",
    "\n",
    "# Create numpy arrays for training set\n",
    "electionTweet_array = tweets2019[\"Tweet\"].to_numpy()\n",
    "electionTweet = [pre_process(text) for text in electionTweet_array]\n",
    "\n",
    "# Create a dictionary by converting each vocabulary word into an index value\n",
    "tknzr = Tokenizer(num_words = 5000)\n",
    "tknzr.fit_on_texts(X_train)\n",
    "\n",
    "# Transform the tweets into a set of numbers using tokenizer\n",
    "X_train = tknzr.texts_to_sequences(X_train)\n",
    "X_test = tknzr.texts_to_sequences(X_test)\n",
    "electionTweet = tknzr.texts_to_sequences(electionTweet)\n",
    "\n",
    "# +1 because Keras in keras the index 0 is reserved\n",
    "vocabulary_size = len(tknzr.word_index) + 1\n",
    "\n",
    "# Max length of the tweet. Each tweet that is longer is truncated; in this case not possible as max permissible length of tweet is 140 characters\n",
    "max_length = 140\n",
    "\n",
    "# Tweets that are shorter are padded with 0s\n",
    "X_train = pad_sequences(X_train, padding='post', maxlen=max_length)\n",
    "X_test = pad_sequences(X_test, padding='post', maxlen=max_length)\n",
    "electionTweet = pad_sequences(electionTweet, padding='post', maxlen=max_length)"
   ]
  },
  {
   "cell_type": "markdown",
   "metadata": {},
   "source": [
    "## Create Word Embedding"
   ]
  },
  {
   "cell_type": "code",
   "execution_count": 21,
   "metadata": {},
   "outputs": [],
   "source": [
    "# Create embedding matrix where each row is the index representing a word and columns represent vectorspace dimensions\n",
    "embedding_matrix = np.zeros((vocabulary_size, 100))\n",
    "for word, index in tknzr.word_index.items():\n",
    "    embedding = dictionary.get(word)\n",
    "    if embedding is not None:\n",
    "        embedding_matrix[index] = embedding"
   ]
  },
  {
   "cell_type": "markdown",
   "metadata": {},
   "source": [
    "## Convolutional Neural Network Model"
   ]
  },
  {
   "cell_type": "code",
   "execution_count": 22,
   "metadata": {},
   "outputs": [
    {
     "name": "stdout",
     "output_type": "stream",
     "text": [
      "Model: \"sequential_1\"\n",
      "_________________________________________________________________\n",
      "Layer (type)                 Output Shape              Param #   \n",
      "=================================================================\n",
      "embedding_1 (Embedding)      (None, 140, 100)          6731700   \n",
      "_________________________________________________________________\n",
      "dropout_1 (Dropout)          (None, 140, 100)          0         \n",
      "_________________________________________________________________\n",
      "conv1d_1 (Conv1D)            (None, 138, 200)          60200     \n",
      "_________________________________________________________________\n",
      "conv1d_2 (Conv1D)            (None, 137, 200)          80200     \n",
      "_________________________________________________________________\n",
      "global_max_pooling1d_1 (Glob (None, 200)               0         \n",
      "_________________________________________________________________\n",
      "dense_1 (Dense)              (None, 100)               20100     \n",
      "_________________________________________________________________\n",
      "dropout_2 (Dropout)          (None, 100)               0         \n",
      "_________________________________________________________________\n",
      "activation_1 (Activation)    (None, 100)               0         \n",
      "_________________________________________________________________\n",
      "dense_2 (Dense)              (None, 1)                 101       \n",
      "=================================================================\n",
      "Total params: 6,892,301\n",
      "Trainable params: 160,601\n",
      "Non-trainable params: 6,731,700\n",
      "_________________________________________________________________\n",
      "None\n",
      "Train on 128000 samples, validate on 32000 samples\n",
      "Epoch 1/7\n",
      "128000/128000 [==============================] - 163s 1ms/step - loss: 0.5150 - acc: 0.7426 - val_loss: 0.4653 - val_acc: 0.7773\n",
      "Epoch 2/7\n",
      "128000/128000 [==============================] - 138s 1ms/step - loss: 0.4728 - acc: 0.7741 - val_loss: 0.4494 - val_acc: 0.7878\n",
      "Epoch 3/7\n",
      "128000/128000 [==============================] - 147s 1ms/step - loss: 0.4522 - acc: 0.7862 - val_loss: 0.4428 - val_acc: 0.7934\n",
      "Epoch 4/7\n",
      "128000/128000 [==============================] - 145s 1ms/step - loss: 0.4396 - acc: 0.7942 - val_loss: 0.4379 - val_acc: 0.7945\n",
      "Epoch 5/7\n",
      "128000/128000 [==============================] - 146s 1ms/step - loss: 0.4285 - acc: 0.8011 - val_loss: 0.4376 - val_acc: 0.7962\n",
      "Epoch 6/7\n",
      "128000/128000 [==============================] - 145s 1ms/step - loss: 0.4191 - acc: 0.8046 - val_loss: 0.4376 - val_acc: 0.7956\n",
      "Epoch 7/7\n",
      "128000/128000 [==============================] - 147s 1ms/step - loss: 0.4092 - acc: 0.8110 - val_loss: 0.4434 - val_acc: 0.7969\n",
      "40000/40000 [==============================] - 12s 291us/step\n",
      "Score: 45.0 %\n",
      "Accuracy: 80.0 %\n"
     ]
    }
   ],
   "source": [
    "# set seed \n",
    "from numpy.random import seed\n",
    "seed(10)\n",
    "\n",
    "# Callback function to stop the training early if the accuracy on the validation score drops for 2 consecutive epochs.\n",
    "es =  EarlyStopping(monitor='val_loss',\n",
    "                   min_delta=0,\n",
    "                   patience=2,\n",
    "                   verbose=1, mode='auto')\n",
    "\n",
    "# Create a sequential model\n",
    "model = Sequential()\n",
    "\n",
    "# embedding layer\n",
    "embedding_layer = Embedding(vocabulary_size, 100, weights=[embedding_matrix], input_length=max_length , trainable=False)\n",
    "model.add(embedding_layer)\n",
    "\n",
    "# dropout layer with 20% probability\n",
    "model.add(Dropout(0.2))\n",
    "\n",
    "# convolutional layers\n",
    "model.add(Conv1D(200, 3, padding = \"valid\", activation='relu')) #kernel size 3, for trigrams\n",
    "model.add(Conv1D(200, 2, padding = \"valid\", activation='relu')) #kernel size 2, for bigrams\n",
    "\n",
    "# max pooling layer\n",
    "model.add(GlobalMaxPooling1D())\n",
    "\n",
    "# fully connected layer\n",
    "model.add(Dense(100))\n",
    "# dropout layer with 20% probability\n",
    "model.add(Dropout(0.2))\n",
    "\n",
    "#output layer\n",
    "model.add(Activation('relu'))\n",
    "model.add(Dense(1, activation='sigmoid'))\n",
    "model.compile(optimizer='adam', loss='binary_crossentropy', metrics=['acc'])\n",
    "\n",
    "# display model summary\n",
    "print(model.summary())\n",
    "\n",
    "# model training \n",
    "history = model.fit(X_train, y_train, batch_size=64, epochs=7, verbose=1, validation_split=0.2, callbacks=[es])\n",
    "\n",
    "# get model metrics\n",
    "score = model.evaluate(X_test, y_test, verbose=1)\n",
    "\n",
    "# display model metrics\n",
    "print(\"Score:\", round(score[0],2)*100,\"%\")\n",
    "print(\"Accuracy:\", round(score[1],2)*100,\"%\")"
   ]
  },
  {
   "cell_type": "code",
   "execution_count": 23,
   "metadata": {},
   "outputs": [
    {
     "data": {
      "image/png": "[encoded data removed]",
      "text/plain": [
       "<Figure size 432x288 with 1 Axes>"
      ]
     },
     "metadata": {
      "needs_background": "light"
     },
     "output_type": "display_data"
    },
    {
     "data": {
      "image/png": "[encoded data removed]",
      "text/plain": [
       "<Figure size 432x288 with 1 Axes>"
      ]
     },
     "metadata": {
      "needs_background": "light"
     },
     "output_type": "display_data"
    }
   ],
   "source": [
    "#Code gotten from https://machinelearningmastery.com/display-deep-learning-model-training-history-in-keras/\n",
    "\n",
    "plt.plot(history.history['acc'])\n",
    "plt.plot(history.history['val_acc'])\n",
    "\n",
    "plt.title('Model accuracy')\n",
    "plt.ylabel('Accuracy')\n",
    "plt.xlabel('Epoch')\n",
    "plt.legend(['Training set','Testing set'], loc='upper left')\n",
    "plt.savefig(\"./Plots/accuracy.png\")\n",
    "plt.show()\n",
    "\n",
    "plt.plot(history.history['loss'])\n",
    "plt.plot(history.history['val_loss'])\n",
    "\n",
    "plt.title('Model loss')\n",
    "plt.ylabel('Loss')\n",
    "plt.xlabel('Epoch')\n",
    "plt.legend(['Training set','Testing set'], loc='upper left')\n",
    "plt.savefig(\"./Plots/loss.png\")\n",
    "plt.show()"
   ]
  },
  {
   "cell_type": "markdown",
   "metadata": {},
   "source": [
    "### Predict sentiment for Twitter Election dataset"
   ]
  },
  {
   "cell_type": "code",
   "execution_count": 24,
   "metadata": {},
   "outputs": [],
   "source": [
    "# get predicted sentiment labels (0,1) \n",
    "# add values to new columns in dataset \n",
    "sentiment_pred = model.predict_classes(electionTweet)\n",
    "sentiment_pred = np.reshape(sentiment_pred,(sentiment_pred.shape[0],))\n",
    "tweets2019[\"Predicted Sentiment\"] =  sentiment_pred\n",
    "\n",
    "# Set sentiment as 'Positive' if label is 1, else set as 'Negative'\n",
    "tweets2019[\"Predicted Sentiment\"] = tweets2019[\"Predicted Sentiment\"].apply(lambda x: 'Positive' if x==1 else 'Negative')"
   ]
  },
  {
   "cell_type": "code",
   "execution_count": 25,
   "metadata": {},
   "outputs": [
    {
     "data": {
      "text/html": [
       "<div>\n",
       "<style scoped>\n",
       "    .dataframe tbody tr th:only-of-type {\n",
       "        vertical-align: middle;\n",
       "    }\n",
       "\n",
       "    .dataframe tbody tr th {\n",
       "        vertical-align: top;\n",
       "    }\n",
       "\n",
       "    .dataframe thead th {\n",
       "        text-align: right;\n",
       "    }\n",
       "</style>\n",
       "<table border=\"1\" class=\"dataframe\">\n",
       "  <thead>\n",
       "    <tr style=\"text-align: right;\">\n",
       "      <th></th>\n",
       "      <th>Predicted Sentiment</th>\n",
       "      <th>Count</th>\n",
       "      <th>Percentage</th>\n",
       "    </tr>\n",
       "  </thead>\n",
       "  <tbody>\n",
       "    <tr>\n",
       "      <th>0</th>\n",
       "      <td>Negative</td>\n",
       "      <td>38093</td>\n",
       "      <td>44.71</td>\n",
       "    </tr>\n",
       "    <tr>\n",
       "      <th>1</th>\n",
       "      <td>Positive</td>\n",
       "      <td>47100</td>\n",
       "      <td>55.29</td>\n",
       "    </tr>\n",
       "  </tbody>\n",
       "</table>\n",
       "</div>"
      ],
      "text/plain": [
       "  Predicted Sentiment  Count  Percentage\n",
       "0            Negative  38093       44.71\n",
       "1            Positive  47100       55.29"
      ]
     },
     "execution_count": 25,
     "metadata": {},
     "output_type": "execute_result"
    }
   ],
   "source": [
    "# check distribution/percentage of predicted sentiment \n",
    "tweetSentiment = tweets2019.groupby(['Predicted Sentiment']).size().reset_index(name='Count')\n",
    "tweetSentiment['Percentage'] = round((tweetSentiment['Count'] / tweetSentiment['Count'].sum()) * 100,2)\n",
    "tweetSentiment"
   ]
  },
  {
   "cell_type": "markdown",
   "metadata": {},
   "source": [
    "## Analysis of Predicted Sentiment for tweets by all accounts"
   ]
  },
  {
   "cell_type": "code",
   "execution_count": 26,
   "metadata": {},
   "outputs": [
    {
     "data": {
      "text/html": [
       "<div>\n",
       "<style scoped>\n",
       "    .dataframe tbody tr th:only-of-type {\n",
       "        vertical-align: middle;\n",
       "    }\n",
       "\n",
       "    .dataframe tbody tr th {\n",
       "        vertical-align: top;\n",
       "    }\n",
       "\n",
       "    .dataframe thead th {\n",
       "        text-align: right;\n",
       "    }\n",
       "</style>\n",
       "<table border=\"1\" class=\"dataframe\">\n",
       "  <thead>\n",
       "    <tr style=\"text-align: right;\">\n",
       "      <th>Predicted Sentiment</th>\n",
       "      <th>Negative</th>\n",
       "      <th>Positive</th>\n",
       "      <th>Total</th>\n",
       "    </tr>\n",
       "    <tr>\n",
       "      <th>Party</th>\n",
       "      <th></th>\n",
       "      <th></th>\n",
       "      <th></th>\n",
       "    </tr>\n",
       "  </thead>\n",
       "  <tbody>\n",
       "    <tr>\n",
       "      <th>BJP</th>\n",
       "      <td>14139</td>\n",
       "      <td>18592</td>\n",
       "      <td>32731</td>\n",
       "    </tr>\n",
       "    <tr>\n",
       "      <th>Both</th>\n",
       "      <td>10253</td>\n",
       "      <td>10579</td>\n",
       "      <td>20832</td>\n",
       "    </tr>\n",
       "    <tr>\n",
       "      <th>Congress</th>\n",
       "      <td>13701</td>\n",
       "      <td>17929</td>\n",
       "      <td>31630</td>\n",
       "    </tr>\n",
       "  </tbody>\n",
       "</table>\n",
       "</div>"
      ],
      "text/plain": [
       "Predicted Sentiment  Negative  Positive  Total\n",
       "Party                                         \n",
       "BJP                     14139     18592  32731\n",
       "Both                    10253     10579  20832\n",
       "Congress                13701     17929  31630"
      ]
     },
     "execution_count": 26,
     "metadata": {},
     "output_type": "execute_result"
    }
   ],
   "source": [
    "# check distribution/percentage of predicted sentiment for each account category\n",
    "dfAll = tweets2019.groupby(['Predicted Sentiment','Party']).size().reset_index(name='Count').pivot(index='Party',columns='Predicted Sentiment',values='Count')\n",
    "dfAll['Total'] = dfAll.sum(axis=1)\n",
    "\n",
    "dfAll_total = dfAll['Total']\n",
    "dfAllPercentage = round(dfAll[dfAll.columns[:-1]].div(dfAll_total, 0)*100,2)\n",
    "\n",
    "dfAll"
   ]
  },
  {
   "cell_type": "code",
   "execution_count": null,
   "metadata": {},
   "outputs": [],
   "source": [
    "axAllPercentage = dfAllPercentage.plot(kind='bar',stacked = False, figsize=(10,7))"
   ]
  },
  {
   "cell_type": "code",
   "execution_count": 28,
   "metadata": {},
   "outputs": [
    {
     "data": {
      "image/png": "[encoded data removed]",
      "text/plain": [
       "<Figure size 720x504 with 1 Axes>"
      ]
     },
     "metadata": {
      "needs_background": "light"
     },
     "output_type": "display_data"
    }
   ],
   "source": [
    "axAll = dfAll.iloc[:,:-1].plot(kind='bar',stacked = False, title = 'Sentiment for all tweets', mark_right = False,  figsize=(10,7), color = 'rg')\n",
    "\n",
    "for p in axAll.patches:\n",
    "    width1 = p.get_width()\n",
    "    height1 = p.get_height()\n",
    "    x1, y1 = p.get_xy() \n",
    "    axAll.annotate(f'{height1}', (x1 + width1/2, y1 + height1*1.02), ha='center')\n",
    "    \n",
    "for p in axAllPercentage.patches:\n",
    "    width2 = p.get_width()\n",
    "    height2 = p.get_height()\n",
    "    x2, y2 = p.get_xy() \n",
    "    axAll.annotate(f'{height2}%', (x2 + width2/2, y2 + height1/3), ha='center', va='bottom')\n",
    "\n",
    "plt.xticks(rotation=0)\n",
    "plt.savefig('./Plots/SentimentAll.png')"
   ]
  },
  {
   "cell_type": "markdown",
   "metadata": {},
   "source": [
    "## Analysis of Predicted Sentiment for tweets by Human accounts"
   ]
  },
  {
   "cell_type": "code",
   "execution_count": 29,
   "metadata": {},
   "outputs": [
    {
     "data": {
      "text/html": [
       "<div>\n",
       "<style scoped>\n",
       "    .dataframe tbody tr th:only-of-type {\n",
       "        vertical-align: middle;\n",
       "    }\n",
       "\n",
       "    .dataframe tbody tr th {\n",
       "        vertical-align: top;\n",
       "    }\n",
       "\n",
       "    .dataframe thead th {\n",
       "        text-align: right;\n",
       "    }\n",
       "</style>\n",
       "<table border=\"1\" class=\"dataframe\">\n",
       "  <thead>\n",
       "    <tr style=\"text-align: right;\">\n",
       "      <th>Predicted Sentiment</th>\n",
       "      <th>Negative</th>\n",
       "      <th>Positive</th>\n",
       "      <th>Total</th>\n",
       "    </tr>\n",
       "    <tr>\n",
       "      <th>Party</th>\n",
       "      <th></th>\n",
       "      <th></th>\n",
       "      <th></th>\n",
       "    </tr>\n",
       "  </thead>\n",
       "  <tbody>\n",
       "    <tr>\n",
       "      <th>BJP</th>\n",
       "      <td>12174</td>\n",
       "      <td>15627</td>\n",
       "      <td>27801</td>\n",
       "    </tr>\n",
       "    <tr>\n",
       "      <th>Both</th>\n",
       "      <td>8766</td>\n",
       "      <td>8700</td>\n",
       "      <td>17466</td>\n",
       "    </tr>\n",
       "    <tr>\n",
       "      <th>Congress</th>\n",
       "      <td>11627</td>\n",
       "      <td>14939</td>\n",
       "      <td>26566</td>\n",
       "    </tr>\n",
       "  </tbody>\n",
       "</table>\n",
       "</div>"
      ],
      "text/plain": [
       "Predicted Sentiment  Negative  Positive  Total\n",
       "Party                                         \n",
       "BJP                     12174     15627  27801\n",
       "Both                     8766      8700  17466\n",
       "Congress                11627     14939  26566"
      ]
     },
     "execution_count": 29,
     "metadata": {},
     "output_type": "execute_result"
    }
   ],
   "source": [
    "# check distribution of predicted sentiment for each Human accounts only\n",
    "dfHuman = tweets2019[tweets2019['Status']=='Human'].groupby(['Predicted Sentiment','Party']).size().reset_index(name='Count').pivot(index='Party',columns='Predicted Sentiment',values='Count')\n",
    "dfHuman['Total'] = dfHuman.sum(axis=1)\n",
    "\n",
    "dfHuman_total = dfHuman['Total']\n",
    "dfHumanPercentage = round(dfHuman[dfHuman.columns[:-1]].div(dfHuman_total, 0)*100,2)\n",
    "\n",
    "dfHuman"
   ]
  },
  {
   "cell_type": "code",
   "execution_count": null,
   "metadata": {},
   "outputs": [],
   "source": [
    "axHumanPercentage = dfHumanPercentage.plot(kind='bar',stacked = False, figsize=(10,7))"
   ]
  },
  {
   "cell_type": "code",
   "execution_count": 31,
   "metadata": {},
   "outputs": [
    {
     "data": {
      "image/png": "[encoded data removed]",
      "text/plain": [
       "<Figure size 720x504 with 1 Axes>"
      ]
     },
     "metadata": {
      "needs_background": "light"
     },
     "output_type": "display_data"
    }
   ],
   "source": [
    "axHuman = dfHuman.iloc[:,:-1].plot(kind='bar',stacked = False, title = 'Sentiment for Human tweets', mark_right = False,  figsize=(10,7), color = 'rg')\n",
    "\n",
    "for p in axHuman.patches:\n",
    "    width1 = p.get_width()\n",
    "    height1 = p.get_height()\n",
    "    x1, y1 = p.get_xy() \n",
    "    axHuman.annotate(f'{height1}', (x1 + width1/2, y1 + height1*1.02), ha='center')\n",
    "    \n",
    "for p in axHumanPercentage.patches:\n",
    "    width2 = p.get_width()\n",
    "    height2 = p.get_height()\n",
    "    x2, y2 = p.get_xy() \n",
    "    axHuman.annotate(f'{height2}%', (x2 + width1/2, y2 + height1/3), ha='center', va='bottom')\n",
    "    \n",
    "plt.xticks(rotation=0)\n",
    "plt.savefig('./Plots/SentimentHuman.png')"
   ]
  }
 ],
 "metadata": {
  "kernelspec": {
   "display_name": "Python 3",
   "language": "python",
   "name": "python3"
  },
  "language_info": {
   "codemirror_mode": {
    "name": "ipython",
    "version": 3
   },
   "file_extension": ".py",
   "mimetype": "text/x-python",
   "name": "python",
   "nbconvert_exporter": "python",
   "pygments_lexer": "ipython3",
   "version": "3.7.3"
  }
 },
 "nbformat": 4,
 "nbformat_minor": 4
}
